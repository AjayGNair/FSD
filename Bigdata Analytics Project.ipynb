{
 "cells": [
  {
   "cell_type": "code",
   "execution_count": null,
   "id": "3959fb80",
   "metadata": {},
   "outputs": [],
   "source": [
    "# Importing Libraries"
   ]
  },
  {
   "cell_type": "code",
   "execution_count": 1,
   "id": "abe4e17a",
   "metadata": {},
   "outputs": [
    {
     "name": "stdout",
     "output_type": "stream",
     "text": [
      "Requirement already satisfied: pyspark in c:\\users\\ajygn\\anaconda3\\lib\\site-packages (3.2.1)\n",
      "Requirement already satisfied: py4j==0.10.9.3 in c:\\users\\ajygn\\anaconda3\\lib\\site-packages (from pyspark) (0.10.9.3)\n",
      "Note: you may need to restart the kernel to use updated packages.\n"
     ]
    }
   ],
   "source": [
    "pip install pyspark"
   ]
  },
  {
   "cell_type": "code",
   "execution_count": 8,
   "id": "559ac9ae",
   "metadata": {},
   "outputs": [],
   "source": [
    "from pyspark.sql import SparkSession\n",
    "import numpy as np\n",
    "import pandas as pd\n",
    "import json\n",
    "import pyspark.sql.functions as F\n",
    "import pyspark.sql\n",
    "from pyspark.sql.functions import col, skewness, kurtosis\n",
    "from pyspark.context import SparkContext\n",
    "from pyspark.sql.functions import * \n",
    "from pyspark.sql.functions import isnan, when, count, col\n",
    "from pyspark.sql.functions import when\n",
    "from pyspark.sql.functions import UserDefinedFunction\n",
    "from pyspark.sql.functions import from_unixtime, unix_timestamp\n",
    "from pyspark.sql.types import StringType\n",
    "from datetime import date, timedelta, datetime\n",
    "import time"
   ]
  },
  {
   "cell_type": "code",
   "execution_count": 6,
   "id": "808ce097",
   "metadata": {},
   "outputs": [],
   "source": [
    "# Set up a SparkSession"
   ]
  },
  {
   "cell_type": "code",
   "execution_count": 9,
   "id": "9db67e11",
   "metadata": {},
   "outputs": [
    {
     "ename": "Exception",
     "evalue": "Java gateway process exited before sending its port number",
     "output_type": "error",
     "traceback": [
      "\u001b[1;31m---------------------------------------------------------------------------\u001b[0m",
      "\u001b[1;31mException\u001b[0m                                 Traceback (most recent call last)",
      "\u001b[1;32m~\\AppData\\Local\\Temp/ipykernel_45704/4113479644.py\u001b[0m in \u001b[0;36m<module>\u001b[1;34m\u001b[0m\n\u001b[0;32m      1\u001b[0m \u001b[1;32mfrom\u001b[0m \u001b[0mpyspark\u001b[0m\u001b[1;33m.\u001b[0m\u001b[0msql\u001b[0m \u001b[1;32mimport\u001b[0m \u001b[0mSparkSession\u001b[0m\u001b[1;33m\u001b[0m\u001b[1;33m\u001b[0m\u001b[0m\n\u001b[1;32m----> 2\u001b[1;33m \u001b[0mspark\u001b[0m \u001b[1;33m=\u001b[0m \u001b[0mSparkSession\u001b[0m\u001b[1;33m.\u001b[0m\u001b[0mbuilder\u001b[0m\u001b[1;33m.\u001b[0m\u001b[0mappName\u001b[0m\u001b[1;33m(\u001b[0m\u001b[1;34m\"capstone\"\u001b[0m\u001b[1;33m)\u001b[0m\u001b[1;33m.\u001b[0m\u001b[0mgetOrCreate\u001b[0m\u001b[1;33m(\u001b[0m\u001b[1;33m)\u001b[0m\u001b[1;33m\u001b[0m\u001b[1;33m\u001b[0m\u001b[0m\n\u001b[0m",
      "\u001b[1;32m~\\anaconda3\\lib\\site-packages\\pyspark\\sql\\session.py\u001b[0m in \u001b[0;36mgetOrCreate\u001b[1;34m(self)\u001b[0m\n\u001b[0;32m    226\u001b[0m                             \u001b[0msparkConf\u001b[0m\u001b[1;33m.\u001b[0m\u001b[0mset\u001b[0m\u001b[1;33m(\u001b[0m\u001b[0mkey\u001b[0m\u001b[1;33m,\u001b[0m \u001b[0mvalue\u001b[0m\u001b[1;33m)\u001b[0m\u001b[1;33m\u001b[0m\u001b[1;33m\u001b[0m\u001b[0m\n\u001b[0;32m    227\u001b[0m                         \u001b[1;31m# This SparkContext may be an existing one.\u001b[0m\u001b[1;33m\u001b[0m\u001b[1;33m\u001b[0m\u001b[0m\n\u001b[1;32m--> 228\u001b[1;33m                         \u001b[0msc\u001b[0m \u001b[1;33m=\u001b[0m \u001b[0mSparkContext\u001b[0m\u001b[1;33m.\u001b[0m\u001b[0mgetOrCreate\u001b[0m\u001b[1;33m(\u001b[0m\u001b[0msparkConf\u001b[0m\u001b[1;33m)\u001b[0m\u001b[1;33m\u001b[0m\u001b[1;33m\u001b[0m\u001b[0m\n\u001b[0m\u001b[0;32m    229\u001b[0m                     \u001b[1;31m# Do not update `SparkConf` for existing `SparkContext`, as it's shared\u001b[0m\u001b[1;33m\u001b[0m\u001b[1;33m\u001b[0m\u001b[0m\n\u001b[0;32m    230\u001b[0m                     \u001b[1;31m# by all sessions.\u001b[0m\u001b[1;33m\u001b[0m\u001b[1;33m\u001b[0m\u001b[0m\n",
      "\u001b[1;32m~\\anaconda3\\lib\\site-packages\\pyspark\\context.py\u001b[0m in \u001b[0;36mgetOrCreate\u001b[1;34m(cls, conf)\u001b[0m\n\u001b[0;32m    382\u001b[0m         \u001b[1;32mwith\u001b[0m \u001b[0mSparkContext\u001b[0m\u001b[1;33m.\u001b[0m\u001b[0m_lock\u001b[0m\u001b[1;33m:\u001b[0m\u001b[1;33m\u001b[0m\u001b[1;33m\u001b[0m\u001b[0m\n\u001b[0;32m    383\u001b[0m             \u001b[1;32mif\u001b[0m \u001b[0mSparkContext\u001b[0m\u001b[1;33m.\u001b[0m\u001b[0m_active_spark_context\u001b[0m \u001b[1;32mis\u001b[0m \u001b[1;32mNone\u001b[0m\u001b[1;33m:\u001b[0m\u001b[1;33m\u001b[0m\u001b[1;33m\u001b[0m\u001b[0m\n\u001b[1;32m--> 384\u001b[1;33m                 \u001b[0mSparkContext\u001b[0m\u001b[1;33m(\u001b[0m\u001b[0mconf\u001b[0m\u001b[1;33m=\u001b[0m\u001b[0mconf\u001b[0m \u001b[1;32mor\u001b[0m \u001b[0mSparkConf\u001b[0m\u001b[1;33m(\u001b[0m\u001b[1;33m)\u001b[0m\u001b[1;33m)\u001b[0m\u001b[1;33m\u001b[0m\u001b[1;33m\u001b[0m\u001b[0m\n\u001b[0m\u001b[0;32m    385\u001b[0m             \u001b[1;32mreturn\u001b[0m \u001b[0mSparkContext\u001b[0m\u001b[1;33m.\u001b[0m\u001b[0m_active_spark_context\u001b[0m\u001b[1;33m\u001b[0m\u001b[1;33m\u001b[0m\u001b[0m\n\u001b[0;32m    386\u001b[0m \u001b[1;33m\u001b[0m\u001b[0m\n",
      "\u001b[1;32m~\\anaconda3\\lib\\site-packages\\pyspark\\context.py\u001b[0m in \u001b[0;36m__init__\u001b[1;34m(self, master, appName, sparkHome, pyFiles, environment, batchSize, serializer, conf, gateway, jsc, profiler_cls)\u001b[0m\n\u001b[0;32m    142\u001b[0m                 \" is not allowed as it is a security risk.\")\n\u001b[0;32m    143\u001b[0m \u001b[1;33m\u001b[0m\u001b[0m\n\u001b[1;32m--> 144\u001b[1;33m         \u001b[0mSparkContext\u001b[0m\u001b[1;33m.\u001b[0m\u001b[0m_ensure_initialized\u001b[0m\u001b[1;33m(\u001b[0m\u001b[0mself\u001b[0m\u001b[1;33m,\u001b[0m \u001b[0mgateway\u001b[0m\u001b[1;33m=\u001b[0m\u001b[0mgateway\u001b[0m\u001b[1;33m,\u001b[0m \u001b[0mconf\u001b[0m\u001b[1;33m=\u001b[0m\u001b[0mconf\u001b[0m\u001b[1;33m)\u001b[0m\u001b[1;33m\u001b[0m\u001b[1;33m\u001b[0m\u001b[0m\n\u001b[0m\u001b[0;32m    145\u001b[0m         \u001b[1;32mtry\u001b[0m\u001b[1;33m:\u001b[0m\u001b[1;33m\u001b[0m\u001b[1;33m\u001b[0m\u001b[0m\n\u001b[0;32m    146\u001b[0m             self._do_init(master, appName, sparkHome, pyFiles, environment, batchSize, serializer,\n",
      "\u001b[1;32m~\\anaconda3\\lib\\site-packages\\pyspark\\context.py\u001b[0m in \u001b[0;36m_ensure_initialized\u001b[1;34m(cls, instance, gateway, conf)\u001b[0m\n\u001b[0;32m    329\u001b[0m         \u001b[1;32mwith\u001b[0m \u001b[0mSparkContext\u001b[0m\u001b[1;33m.\u001b[0m\u001b[0m_lock\u001b[0m\u001b[1;33m:\u001b[0m\u001b[1;33m\u001b[0m\u001b[1;33m\u001b[0m\u001b[0m\n\u001b[0;32m    330\u001b[0m             \u001b[1;32mif\u001b[0m \u001b[1;32mnot\u001b[0m \u001b[0mSparkContext\u001b[0m\u001b[1;33m.\u001b[0m\u001b[0m_gateway\u001b[0m\u001b[1;33m:\u001b[0m\u001b[1;33m\u001b[0m\u001b[1;33m\u001b[0m\u001b[0m\n\u001b[1;32m--> 331\u001b[1;33m                 \u001b[0mSparkContext\u001b[0m\u001b[1;33m.\u001b[0m\u001b[0m_gateway\u001b[0m \u001b[1;33m=\u001b[0m \u001b[0mgateway\u001b[0m \u001b[1;32mor\u001b[0m \u001b[0mlaunch_gateway\u001b[0m\u001b[1;33m(\u001b[0m\u001b[0mconf\u001b[0m\u001b[1;33m)\u001b[0m\u001b[1;33m\u001b[0m\u001b[1;33m\u001b[0m\u001b[0m\n\u001b[0m\u001b[0;32m    332\u001b[0m                 \u001b[0mSparkContext\u001b[0m\u001b[1;33m.\u001b[0m\u001b[0m_jvm\u001b[0m \u001b[1;33m=\u001b[0m \u001b[0mSparkContext\u001b[0m\u001b[1;33m.\u001b[0m\u001b[0m_gateway\u001b[0m\u001b[1;33m.\u001b[0m\u001b[0mjvm\u001b[0m\u001b[1;33m\u001b[0m\u001b[1;33m\u001b[0m\u001b[0m\n\u001b[0;32m    333\u001b[0m \u001b[1;33m\u001b[0m\u001b[0m\n",
      "\u001b[1;32m~\\anaconda3\\lib\\site-packages\\pyspark\\java_gateway.py\u001b[0m in \u001b[0;36mlaunch_gateway\u001b[1;34m(conf, popen_kwargs)\u001b[0m\n\u001b[0;32m    106\u001b[0m \u001b[1;33m\u001b[0m\u001b[0m\n\u001b[0;32m    107\u001b[0m             \u001b[1;32mif\u001b[0m \u001b[1;32mnot\u001b[0m \u001b[0mos\u001b[0m\u001b[1;33m.\u001b[0m\u001b[0mpath\u001b[0m\u001b[1;33m.\u001b[0m\u001b[0misfile\u001b[0m\u001b[1;33m(\u001b[0m\u001b[0mconn_info_file\u001b[0m\u001b[1;33m)\u001b[0m\u001b[1;33m:\u001b[0m\u001b[1;33m\u001b[0m\u001b[1;33m\u001b[0m\u001b[0m\n\u001b[1;32m--> 108\u001b[1;33m                 \u001b[1;32mraise\u001b[0m \u001b[0mException\u001b[0m\u001b[1;33m(\u001b[0m\u001b[1;34m\"Java gateway process exited before sending its port number\"\u001b[0m\u001b[1;33m)\u001b[0m\u001b[1;33m\u001b[0m\u001b[1;33m\u001b[0m\u001b[0m\n\u001b[0m\u001b[0;32m    109\u001b[0m \u001b[1;33m\u001b[0m\u001b[0m\n\u001b[0;32m    110\u001b[0m             \u001b[1;32mwith\u001b[0m \u001b[0mopen\u001b[0m\u001b[1;33m(\u001b[0m\u001b[0mconn_info_file\u001b[0m\u001b[1;33m,\u001b[0m \u001b[1;34m\"rb\"\u001b[0m\u001b[1;33m)\u001b[0m \u001b[1;32mas\u001b[0m \u001b[0minfo\u001b[0m\u001b[1;33m:\u001b[0m\u001b[1;33m\u001b[0m\u001b[1;33m\u001b[0m\u001b[0m\n",
      "\u001b[1;31mException\u001b[0m: Java gateway process exited before sending its port number"
     ]
    }
   ],
   "source": [
    "from pyspark.sql import SparkSession\n",
    "spark = SparkSession.builder.appName(\"capstone\").getOrCreate()"
   ]
  },
  {
   "cell_type": "code",
   "execution_count": 15,
   "id": "f2527526",
   "metadata": {},
   "outputs": [],
   "source": [
    "def load_data(data):\n",
    "    \"\"\"data=\"online1.csv\" or \"online2.csv\" \"\"\"\n",
    "    t1=time.time()\n",
    "    dat = spark.read.options(header=True, qinferSchema=True).csv(data)\n",
    "    t2=time.time()\n",
    "    print(\"Duration:\", np.round((t2-t1), 2), \"seconds\")\n",
    "    return(dat)"
   ]
  },
  {
   "cell_type": "code",
   "execution_count": 16,
   "id": "3eb5f1ac",
   "metadata": {},
   "outputs": [
    {
     "ename": "NameError",
     "evalue": "name 'spark' is not defined",
     "output_type": "error",
     "traceback": [
      "\u001b[1;31m---------------------------------------------------------------------------\u001b[0m",
      "\u001b[1;31mNameError\u001b[0m                                 Traceback (most recent call last)",
      "\u001b[1;32m~\\AppData\\Local\\Temp/ipykernel_58260/3625988123.py\u001b[0m in \u001b[0;36m<module>\u001b[1;34m\u001b[0m\n\u001b[1;32m----> 1\u001b[1;33m \u001b[0mdf1\u001b[0m \u001b[1;33m=\u001b[0m \u001b[0mload_data\u001b[0m\u001b[1;33m(\u001b[0m\u001b[1;34m'OnlineRetail.csv'\u001b[0m\u001b[1;33m)\u001b[0m\u001b[1;33m\u001b[0m\u001b[1;33m\u001b[0m\u001b[0m\n\u001b[0m",
      "\u001b[1;32m~\\AppData\\Local\\Temp/ipykernel_58260/2962788757.py\u001b[0m in \u001b[0;36mload_data\u001b[1;34m(data)\u001b[0m\n\u001b[0;32m      2\u001b[0m     \u001b[1;34m\"\"\"data=\"online1.csv\" or \"online2.csv\" \"\"\"\u001b[0m\u001b[1;33m\u001b[0m\u001b[1;33m\u001b[0m\u001b[0m\n\u001b[0;32m      3\u001b[0m     \u001b[0mt1\u001b[0m\u001b[1;33m=\u001b[0m\u001b[0mtime\u001b[0m\u001b[1;33m.\u001b[0m\u001b[0mtime\u001b[0m\u001b[1;33m(\u001b[0m\u001b[1;33m)\u001b[0m\u001b[1;33m\u001b[0m\u001b[1;33m\u001b[0m\u001b[0m\n\u001b[1;32m----> 4\u001b[1;33m     \u001b[0mdat\u001b[0m \u001b[1;33m=\u001b[0m \u001b[0mspark\u001b[0m\u001b[1;33m.\u001b[0m\u001b[0mread\u001b[0m\u001b[1;33m.\u001b[0m\u001b[0moptions\u001b[0m\u001b[1;33m(\u001b[0m\u001b[0mheader\u001b[0m\u001b[1;33m=\u001b[0m\u001b[1;32mTrue\u001b[0m\u001b[1;33m,\u001b[0m \u001b[0minferSchema\u001b[0m\u001b[1;33m=\u001b[0m\u001b[1;32mTrue\u001b[0m\u001b[1;33m)\u001b[0m\u001b[1;33m.\u001b[0m\u001b[0mcsv\u001b[0m\u001b[1;33m(\u001b[0m\u001b[0mdata\u001b[0m\u001b[1;33m)\u001b[0m\u001b[1;33m\u001b[0m\u001b[1;33m\u001b[0m\u001b[0m\n\u001b[0m\u001b[0;32m      5\u001b[0m     \u001b[0mt2\u001b[0m\u001b[1;33m=\u001b[0m\u001b[0mtime\u001b[0m\u001b[1;33m.\u001b[0m\u001b[0mtime\u001b[0m\u001b[1;33m(\u001b[0m\u001b[1;33m)\u001b[0m\u001b[1;33m\u001b[0m\u001b[1;33m\u001b[0m\u001b[0m\n\u001b[0;32m      6\u001b[0m     \u001b[0mprint\u001b[0m\u001b[1;33m(\u001b[0m\u001b[1;34m\"Duration:\"\u001b[0m\u001b[1;33m,\u001b[0m \u001b[0mnp\u001b[0m\u001b[1;33m.\u001b[0m\u001b[0mround\u001b[0m\u001b[1;33m(\u001b[0m\u001b[1;33m(\u001b[0m\u001b[0mt2\u001b[0m\u001b[1;33m-\u001b[0m\u001b[0mt1\u001b[0m\u001b[1;33m)\u001b[0m\u001b[1;33m,\u001b[0m \u001b[1;36m2\u001b[0m\u001b[1;33m)\u001b[0m\u001b[1;33m,\u001b[0m \u001b[1;34m\"seconds\"\u001b[0m\u001b[1;33m)\u001b[0m\u001b[1;33m\u001b[0m\u001b[1;33m\u001b[0m\u001b[0m\n",
      "\u001b[1;31mNameError\u001b[0m: name 'spark' is not defined"
     ]
    }
   ],
   "source": [
    "df1 = load_data('OnlineRetail.csv')"
   ]
  },
  {
   "cell_type": "code",
   "execution_count": 46,
   "id": "0e71769a",
   "metadata": {},
   "outputs": [
    {
     "name": "stdout",
     "output_type": "stream",
     "text": [
      "Data shape (rows, columns): 541909 x 8\n"
     ]
    }
   ],
   "source": [
    "def datashape(data):\n",
    "    print(\"Data shape (rows, columns):\", data.count(), \"x\", len(data.columns))\n",
    "    \n",
    "datashape(df1)\n",
    "#datashape(df2)"
   ]
  },
  {
   "cell_type": "code",
   "execution_count": 1,
   "id": "ba8015cb",
   "metadata": {},
   "outputs": [
    {
     "ename": "NameError",
     "evalue": "name 'df1' is not defined",
     "output_type": "error",
     "traceback": [
      "\u001b[1;31m---------------------------------------------------------------------------\u001b[0m",
      "\u001b[1;31mNameError\u001b[0m                                 Traceback (most recent call last)",
      "\u001b[1;32m~\\AppData\\Local\\Temp/ipykernel_58260/2654230696.py\u001b[0m in \u001b[0;36m<module>\u001b[1;34m\u001b[0m\n\u001b[1;32m----> 1\u001b[1;33m \u001b[0mdf1\u001b[0m\u001b[1;33m.\u001b[0m\u001b[0mlimit\u001b[0m\u001b[1;33m(\u001b[0m\u001b[1;36m10\u001b[0m\u001b[1;33m)\u001b[0m\u001b[1;33m.\u001b[0m\u001b[0mshow\u001b[0m\u001b[1;33m(\u001b[0m\u001b[1;33m)\u001b[0m\u001b[1;33m\u001b[0m\u001b[1;33m\u001b[0m\u001b[0m\n\u001b[0m",
      "\u001b[1;31mNameError\u001b[0m: name 'df1' is not defined"
     ]
    }
   ],
   "source": [
    "df1.limit(10).show()"
   ]
  },
  {
   "cell_type": "code",
   "execution_count": 50,
   "id": "b133057e",
   "metadata": {},
   "outputs": [],
   "source": [
    "spark.conf.set(\"spark.sql.repl.eagerEval.enabled\", True)"
   ]
  },
  {
   "cell_type": "code",
   "execution_count": 51,
   "id": "f56d4734",
   "metadata": {},
   "outputs": [
    {
     "data": {
      "text/html": [
       "<div>\n",
       "<style scoped>\n",
       "    .dataframe tbody tr th:only-of-type {\n",
       "        vertical-align: middle;\n",
       "    }\n",
       "\n",
       "    .dataframe tbody tr th {\n",
       "        vertical-align: top;\n",
       "    }\n",
       "\n",
       "    .dataframe thead th {\n",
       "        text-align: right;\n",
       "    }\n",
       "</style>\n",
       "<table border=\"1\" class=\"dataframe\">\n",
       "  <thead>\n",
       "    <tr style=\"text-align: right;\">\n",
       "      <th>summary</th>\n",
       "      <th>count</th>\n",
       "      <th>mean</th>\n",
       "      <th>stddev</th>\n",
       "      <th>min</th>\n",
       "      <th>max</th>\n",
       "    </tr>\n",
       "  </thead>\n",
       "  <tbody>\n",
       "    <tr>\n",
       "      <th>InvoiceNo</th>\n",
       "      <td>541909</td>\n",
       "      <td>559965.752026781</td>\n",
       "      <td>13428.417280805148</td>\n",
       "      <td>536365</td>\n",
       "      <td>C581569</td>\n",
       "    </tr>\n",
       "    <tr>\n",
       "      <th>StockCode</th>\n",
       "      <td>541909</td>\n",
       "      <td>27623.240210938104</td>\n",
       "      <td>16799.73762842771</td>\n",
       "      <td>10002</td>\n",
       "      <td>m</td>\n",
       "    </tr>\n",
       "    <tr>\n",
       "      <th>Description</th>\n",
       "      <td>540455</td>\n",
       "      <td>20713.0</td>\n",
       "      <td>None</td>\n",
       "      <td>4 PURPLE FLOCK DINNER CANDLES</td>\n",
       "      <td>wrongly sold sets</td>\n",
       "    </tr>\n",
       "    <tr>\n",
       "      <th>Quantity</th>\n",
       "      <td>541909</td>\n",
       "      <td>9.55224954743324</td>\n",
       "      <td>218.08115785023355</td>\n",
       "      <td>-80995</td>\n",
       "      <td>80995</td>\n",
       "    </tr>\n",
       "    <tr>\n",
       "      <th>InvoiceDate</th>\n",
       "      <td>541909</td>\n",
       "      <td>None</td>\n",
       "      <td>None</td>\n",
       "      <td>1/10/2011 10:04</td>\n",
       "      <td>9/9/2011 9:52</td>\n",
       "    </tr>\n",
       "    <tr>\n",
       "      <th>UnitPrice</th>\n",
       "      <td>541909</td>\n",
       "      <td>4.611113626083471</td>\n",
       "      <td>96.75985306117803</td>\n",
       "      <td>-11062.06</td>\n",
       "      <td>38970.0</td>\n",
       "    </tr>\n",
       "    <tr>\n",
       "      <th>CustomerID</th>\n",
       "      <td>406829</td>\n",
       "      <td>15287.690570239585</td>\n",
       "      <td>1713.6003033216148</td>\n",
       "      <td>12346</td>\n",
       "      <td>18287</td>\n",
       "    </tr>\n",
       "    <tr>\n",
       "      <th>Country</th>\n",
       "      <td>541909</td>\n",
       "      <td>None</td>\n",
       "      <td>None</td>\n",
       "      <td>Australia</td>\n",
       "      <td>Unspecified</td>\n",
       "    </tr>\n",
       "  </tbody>\n",
       "</table>\n",
       "</div>"
      ],
      "text/plain": [
       "summary       count                mean              stddev  \\\n",
       "InvoiceNo    541909    559965.752026781  13428.417280805148   \n",
       "StockCode    541909  27623.240210938104   16799.73762842771   \n",
       "Description  540455             20713.0                None   \n",
       "Quantity     541909    9.55224954743324  218.08115785023355   \n",
       "InvoiceDate  541909                None                None   \n",
       "UnitPrice    541909   4.611113626083471   96.75985306117803   \n",
       "CustomerID   406829  15287.690570239585  1713.6003033216148   \n",
       "Country      541909                None                None   \n",
       "\n",
       "summary                                 min                max  \n",
       "InvoiceNo                            536365            C581569  \n",
       "StockCode                             10002                  m  \n",
       "Description   4 PURPLE FLOCK DINNER CANDLES  wrongly sold sets  \n",
       "Quantity                             -80995              80995  \n",
       "InvoiceDate                 1/10/2011 10:04      9/9/2011 9:52  \n",
       "UnitPrice                         -11062.06            38970.0  \n",
       "CustomerID                            12346              18287  \n",
       "Country                           Australia        Unspecified  "
      ]
     },
     "execution_count": 51,
     "metadata": {},
     "output_type": "execute_result"
    }
   ],
   "source": [
    "summary = df1.describe().toPandas()\n",
    "summary = summary.T\n",
    "summary.columns = summary.iloc[0]\n",
    "summary = summary.drop(summary.index[0])\n",
    "summary"
   ]
  },
  {
   "cell_type": "code",
   "execution_count": 52,
   "id": "9aec1a73",
   "metadata": {},
   "outputs": [
    {
     "data": {
      "text/html": [
       "<table border='1'>\n",
       "<tr><th>InvoiceNo</th><th>StockCode</th><th>Description</th><th>Quantity</th><th>InvoiceDate</th><th>UnitPrice</th><th>CustomerID</th><th>Country</th></tr>\n",
       "<tr><td>0</td><td>0</td><td>1454</td><td>0</td><td>0</td><td>0</td><td>135080</td><td>0</td></tr>\n",
       "</table>\n"
      ],
      "text/plain": [
       "+---------+---------+-----------+--------+-----------+---------+----------+-------+\n",
       "|InvoiceNo|StockCode|Description|Quantity|InvoiceDate|UnitPrice|CustomerID|Country|\n",
       "+---------+---------+-----------+--------+-----------+---------+----------+-------+\n",
       "|        0|        0|       1454|       0|          0|        0|    135080|      0|\n",
       "+---------+---------+-----------+--------+-----------+---------+----------+-------+"
      ]
     },
     "execution_count": 52,
     "metadata": {},
     "output_type": "execute_result"
    }
   ],
   "source": [
    "df1.select([count(when(isnan(c) | col(c).isNull(), c)).alias(c) for c in df1.columns])"
   ]
  },
  {
   "cell_type": "code",
   "execution_count": 10,
   "id": "0e8c24af",
   "metadata": {},
   "outputs": [],
   "source": [
    "#df1 = df1.withColumn(\"n_InvoiceDate\", from_unixtime(unix_timestamp('ORDERDATE', 'MM/dd/yyyy HH:mm')).alias('n_InvoiceDate'))"
   ]
  },
  {
   "cell_type": "code",
   "execution_count": 11,
   "id": "8d5b9189",
   "metadata": {},
   "outputs": [],
   "source": [
    "#df1 = df1.withColumn(\"weekofyear\", weekofyear(\"n_InvoiceDate\"))\n"
   ]
  },
  {
   "cell_type": "code",
   "execution_count": 54,
   "id": "f9b01729",
   "metadata": {},
   "outputs": [],
   "source": [
    "df1 = df1.replace(['EIRE'],['Ireland'])"
   ]
  },
  {
   "cell_type": "code",
   "execution_count": 55,
   "id": "6049910f",
   "metadata": {},
   "outputs": [],
   "source": [
    "df1 = df1.withColumn(\"Quantity\", col(\"Quantity\").cast(\"Float\"))"
   ]
  },
  {
   "cell_type": "code",
   "execution_count": 57,
   "id": "0f340835",
   "metadata": {},
   "outputs": [
    {
     "data": {
      "text/html": [
       "<table border='1'>\n",
       "<tr><th>InvoiceDate</th><th>count</th></tr>\n",
       "<tr><td>1/10/2011 10:04</td><td>1</td></tr>\n",
       "<tr><td>1/10/2011 10:07</td><td>1</td></tr>\n",
       "<tr><td>1/10/2011 10:08</td><td>1</td></tr>\n",
       "<tr><td>1/10/2011 10:32</td><td>23</td></tr>\n",
       "<tr><td>1/10/2011 10:35</td><td>17</td></tr>\n",
       "<tr><td>1/10/2011 10:36</td><td>1</td></tr>\n",
       "<tr><td>1/10/2011 10:44</td><td>1</td></tr>\n",
       "<tr><td>1/10/2011 10:58</td><td>46</td></tr>\n",
       "<tr><td>1/10/2011 11:09</td><td>19</td></tr>\n",
       "<tr><td>1/10/2011 11:22</td><td>42</td></tr>\n",
       "</table>\n"
      ],
      "text/plain": [
       "+---------------+-----+\n",
       "|    InvoiceDate|count|\n",
       "+---------------+-----+\n",
       "|1/10/2011 10:04|    1|\n",
       "|1/10/2011 10:07|    1|\n",
       "|1/10/2011 10:08|    1|\n",
       "|1/10/2011 10:32|   23|\n",
       "|1/10/2011 10:35|   17|\n",
       "|1/10/2011 10:36|    1|\n",
       "|1/10/2011 10:44|    1|\n",
       "|1/10/2011 10:58|   46|\n",
       "|1/10/2011 11:09|   19|\n",
       "|1/10/2011 11:22|   42|\n",
       "+---------------+-----+"
      ]
     },
     "execution_count": 57,
     "metadata": {},
     "output_type": "execute_result"
    }
   ],
   "source": [
    "df1.groupby(\"InvoiceDate\").count().sort(\"InvoiceDate\", ascending=True).limit(10)"
   ]
  },
  {
   "cell_type": "code",
   "execution_count": 59,
   "id": "92fbb3ca",
   "metadata": {},
   "outputs": [
    {
     "data": {
      "text/html": [
       "<table border='1'>\n",
       "<tr><th>InvoiceNo</th><th>StockCode</th><th>Description</th><th>Quantity</th><th>InvoiceDate</th><th>UnitPrice</th><th>CustomerID</th><th>Country</th><th>Amount</th></tr>\n",
       "<tr><td>536365</td><td>85123A</td><td>WHITE HANGING HEA...</td><td>6.0</td><td>12/1/2010 8:26</td><td>2.55</td><td>17850</td><td>United Kingdom</td><td>15.299999999999999</td></tr>\n",
       "<tr><td>536365</td><td>71053</td><td>WHITE METAL LANTERN</td><td>6.0</td><td>12/1/2010 8:26</td><td>3.39</td><td>17850</td><td>United Kingdom</td><td>20.34</td></tr>\n",
       "<tr><td>536365</td><td>84406B</td><td>CREAM CUPID HEART...</td><td>8.0</td><td>12/1/2010 8:26</td><td>2.75</td><td>17850</td><td>United Kingdom</td><td>22.0</td></tr>\n",
       "<tr><td>536365</td><td>84029G</td><td>KNITTED UNION FLA...</td><td>6.0</td><td>12/1/2010 8:26</td><td>3.39</td><td>17850</td><td>United Kingdom</td><td>20.34</td></tr>\n",
       "<tr><td>536365</td><td>84029E</td><td>RED WOOLLY HOTTIE...</td><td>6.0</td><td>12/1/2010 8:26</td><td>3.39</td><td>17850</td><td>United Kingdom</td><td>20.34</td></tr>\n",
       "</table>\n"
      ],
      "text/plain": [
       "+---------+---------+--------------------+--------+--------------+---------+----------+--------------+------------------+\n",
       "|InvoiceNo|StockCode|         Description|Quantity|   InvoiceDate|UnitPrice|CustomerID|       Country|            Amount|\n",
       "+---------+---------+--------------------+--------+--------------+---------+----------+--------------+------------------+\n",
       "|   536365|   85123A|WHITE HANGING HEA...|     6.0|12/1/2010 8:26|     2.55|     17850|United Kingdom|15.299999999999999|\n",
       "|   536365|    71053| WHITE METAL LANTERN|     6.0|12/1/2010 8:26|     3.39|     17850|United Kingdom|             20.34|\n",
       "|   536365|   84406B|CREAM CUPID HEART...|     8.0|12/1/2010 8:26|     2.75|     17850|United Kingdom|              22.0|\n",
       "|   536365|   84029G|KNITTED UNION FLA...|     6.0|12/1/2010 8:26|     3.39|     17850|United Kingdom|             20.34|\n",
       "|   536365|   84029E|RED WOOLLY HOTTIE...|     6.0|12/1/2010 8:26|     3.39|     17850|United Kingdom|             20.34|\n",
       "+---------+---------+--------------------+--------+--------------+---------+----------+--------------+------------------+"
      ]
     },
     "execution_count": 59,
     "metadata": {},
     "output_type": "execute_result"
    }
   ],
   "source": [
    "df1 = df1.withColumn(\"Amount\", col(\"Quantity\") * col(\"UnitPrice\"))\n",
    "df1.limit(5)"
   ]
  },
  {
   "cell_type": "code",
   "execution_count": 60,
   "id": "a6a3b876",
   "metadata": {},
   "outputs": [
    {
     "data": {
      "text/html": [
       "<table border='1'>\n",
       "<tr><th>Country</th><th>count</th></tr>\n",
       "<tr><td>United Kingdom</td><td>495478</td></tr>\n",
       "<tr><td>Germany</td><td>9495</td></tr>\n",
       "<tr><td>France</td><td>8557</td></tr>\n",
       "<tr><td>Ireland</td><td>8196</td></tr>\n",
       "<tr><td>Spain</td><td>2533</td></tr>\n",
       "<tr><td>Netherlands</td><td>2371</td></tr>\n",
       "<tr><td>Belgium</td><td>2069</td></tr>\n",
       "<tr><td>Switzerland</td><td>2002</td></tr>\n",
       "<tr><td>Portugal</td><td>1519</td></tr>\n",
       "<tr><td>Australia</td><td>1259</td></tr>\n",
       "</table>\n"
      ],
      "text/plain": [
       "+--------------+------+\n",
       "|       Country| count|\n",
       "+--------------+------+\n",
       "|United Kingdom|495478|\n",
       "|       Germany|  9495|\n",
       "|        France|  8557|\n",
       "|       Ireland|  8196|\n",
       "|         Spain|  2533|\n",
       "|   Netherlands|  2371|\n",
       "|       Belgium|  2069|\n",
       "|   Switzerland|  2002|\n",
       "|      Portugal|  1519|\n",
       "|     Australia|  1259|\n",
       "+--------------+------+"
      ]
     },
     "execution_count": 60,
     "metadata": {},
     "output_type": "execute_result"
    }
   ],
   "source": [
    "df1.groupBy(\"Country\").count().sort(\"count\", ascending=False).limit(10)"
   ]
  },
  {
   "cell_type": "code",
   "execution_count": 68,
   "id": "ed6ee935",
   "metadata": {},
   "outputs": [
    {
     "data": {
      "text/html": [
       "<table border='1'>\n",
       "<tr><th>InvoiceNo</th><th>StockCode</th><th>Description</th><th>Quantity</th><th>InvoiceDate</th><th>UnitPrice</th><th>CustomerID</th><th>Country</th><th>Amount</th></tr>\n",
       "<tr><td>536540</td><td>22968</td><td>ROSE COTTAGE KEEP...</td><td>4.0</td><td>12/1/2010 14:05</td><td>9.95</td><td>14911</td><td>Ireland</td><td>39.8</td></tr>\n",
       "<tr><td>536540</td><td>85071A</td><td>BLUE CHARLIE+LOLA...</td><td>6.0</td><td>12/1/2010 14:05</td><td>2.95</td><td>14911</td><td>Ireland</td><td>17.700000000000003</td></tr>\n",
       "<tr><td>536540</td><td>85071C</td><td>&quot;CHARLIE+LOLA&quot;&quot;EX...</td><td>6.0</td><td>12/1/2010 14:05</td><td>2.55</td><td>14911</td><td>Ireland</td><td>15.299999999999999</td></tr>\n",
       "<tr><td>536540</td><td>22355</td><td>CHARLOTTE BAG SUK...</td><td>50.0</td><td>12/1/2010 14:05</td><td>0.85</td><td>14911</td><td>Ireland</td><td>42.5</td></tr>\n",
       "<tr><td>536540</td><td>21579</td><td>LOLITA  DESIGN  C...</td><td>6.0</td><td>12/1/2010 14:05</td><td>2.25</td><td>14911</td><td>Ireland</td><td>13.5</td></tr>\n",
       "</table>\n"
      ],
      "text/plain": [
       "+---------+---------+--------------------+--------+---------------+---------+----------+-------+------------------+\n",
       "|InvoiceNo|StockCode|         Description|Quantity|    InvoiceDate|UnitPrice|CustomerID|Country|            Amount|\n",
       "+---------+---------+--------------------+--------+---------------+---------+----------+-------+------------------+\n",
       "|   536540|    22968|ROSE COTTAGE KEEP...|     4.0|12/1/2010 14:05|     9.95|     14911|Ireland|              39.8|\n",
       "|   536540|   85071A|BLUE CHARLIE+LOLA...|     6.0|12/1/2010 14:05|     2.95|     14911|Ireland|17.700000000000003|\n",
       "|   536540|   85071C|\"CHARLIE+LOLA\"\"EX...|     6.0|12/1/2010 14:05|     2.55|     14911|Ireland|15.299999999999999|\n",
       "|   536540|    22355|CHARLOTTE BAG SUK...|    50.0|12/1/2010 14:05|     0.85|     14911|Ireland|              42.5|\n",
       "|   536540|    21579|LOLITA  DESIGN  C...|     6.0|12/1/2010 14:05|     2.25|     14911|Ireland|              13.5|\n",
       "+---------+---------+--------------------+--------+---------------+---------+----------+-------+------------------+"
      ]
     },
     "execution_count": 68,
     "metadata": {},
     "output_type": "execute_result"
    }
   ],
   "source": [
    "df1[df1.Country.isin('Ireland')].limit(5)"
   ]
  },
  {
   "cell_type": "code",
   "execution_count": 63,
   "id": "08445245",
   "metadata": {},
   "outputs": [
    {
     "data": {
      "text/html": [
       "<table border='1'>\n",
       "<tr><th>InvoiceNo</th><th>StockCode</th><th>Description</th><th>Quantity</th><th>InvoiceDate</th><th>UnitPrice</th><th>CustomerID</th><th>Country</th><th>Amount</th></tr>\n",
       "<tr><td>541431</td><td>23166</td><td>MEDIUM CERAMIC TO...</td><td>74215.0</td><td>1/18/2011 10:01</td><td>1.04</td><td>12346</td><td>United Kingdom</td><td>77183.6</td></tr>\n",
       "<tr><td>581483</td><td>23843</td><td>PAPER CRAFT , LIT...</td><td>80995.0</td><td>12/9/2011 9:15</td><td>2.08</td><td>16446</td><td>United Kingdom</td><td>168469.6</td></tr>\n",
       "</table>\n"
      ],
      "text/plain": [
       "+---------+---------+--------------------+--------+---------------+---------+----------+--------------+--------+\n",
       "|InvoiceNo|StockCode|         Description|Quantity|    InvoiceDate|UnitPrice|CustomerID|       Country|  Amount|\n",
       "+---------+---------+--------------------+--------+---------------+---------+----------+--------------+--------+\n",
       "|   541431|    23166|MEDIUM CERAMIC TO...| 74215.0|1/18/2011 10:01|     1.04|     12346|United Kingdom| 77183.6|\n",
       "|   581483|    23843|PAPER CRAFT , LIT...| 80995.0| 12/9/2011 9:15|     2.08|     16446|United Kingdom|168469.6|\n",
       "+---------+---------+--------------------+--------+---------------+---------+----------+--------------+--------+"
      ]
     },
     "execution_count": 63,
     "metadata": {},
     "output_type": "execute_result"
    }
   ],
   "source": [
    "df1.filter(df1.Quantity > 50000)"
   ]
  },
  {
   "cell_type": "code",
   "execution_count": 66,
   "id": "d104fe11",
   "metadata": {},
   "outputs": [
    {
     "data": {
      "text/html": [
       "<table border='1'>\n",
       "<tr><th>InvoiceDate</th><th>count</th></tr>\n",
       "<tr><td>1/10/2011 10:04</td><td>1</td></tr>\n",
       "<tr><td>1/10/2011 10:07</td><td>1</td></tr>\n",
       "<tr><td>1/10/2011 10:08</td><td>1</td></tr>\n",
       "<tr><td>1/10/2011 10:32</td><td>23</td></tr>\n",
       "<tr><td>1/10/2011 10:35</td><td>17</td></tr>\n",
       "<tr><td>1/10/2011 10:36</td><td>1</td></tr>\n",
       "<tr><td>1/10/2011 10:44</td><td>1</td></tr>\n",
       "<tr><td>1/10/2011 10:58</td><td>46</td></tr>\n",
       "<tr><td>1/10/2011 11:09</td><td>19</td></tr>\n",
       "<tr><td>1/10/2011 11:22</td><td>42</td></tr>\n",
       "</table>\n"
      ],
      "text/plain": [
       "+---------------+-----+\n",
       "|    InvoiceDate|count|\n",
       "+---------------+-----+\n",
       "|1/10/2011 10:04|    1|\n",
       "|1/10/2011 10:07|    1|\n",
       "|1/10/2011 10:08|    1|\n",
       "|1/10/2011 10:32|   23|\n",
       "|1/10/2011 10:35|   17|\n",
       "|1/10/2011 10:36|    1|\n",
       "|1/10/2011 10:44|    1|\n",
       "|1/10/2011 10:58|   46|\n",
       "|1/10/2011 11:09|   19|\n",
       "|1/10/2011 11:22|   42|\n",
       "+---------------+-----+"
      ]
     },
     "execution_count": 66,
     "metadata": {},
     "output_type": "execute_result"
    }
   ],
   "source": [
    "df1.groupby(\"InvoiceDate\").count().sort(\"InvoiceDate\", ascending=True).limit(10)"
   ]
  },
  {
   "cell_type": "code",
   "execution_count": null,
   "id": "19168d39",
   "metadata": {},
   "outputs": [],
   "source": [
    "df."
   ]
  }
 ],
 "metadata": {
  "kernelspec": {
   "display_name": "Python 3 (ipykernel)",
   "language": "python",
   "name": "python3"
  },
  "language_info": {
   "codemirror_mode": {
    "name": "ipython",
    "version": 3
   },
   "file_extension": ".py",
   "mimetype": "text/x-python",
   "name": "python",
   "nbconvert_exporter": "python",
   "pygments_lexer": "ipython3",
   "version": "3.9.7"
  }
 },
 "nbformat": 4,
 "nbformat_minor": 5
}
